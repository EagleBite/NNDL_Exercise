{
 "cells": [
  {
   "cell_type": "markdown",
   "metadata": {},
   "source": [
    "#                                           numpy 练习题"
   ]
  },
  {
   "cell_type": "markdown",
   "metadata": {
    "collapsed": true
   },
   "source": [
    " "
   ]
  },
  {
   "cell_type": "markdown",
   "metadata": {},
   "source": [
    "### numpy 的array操作"
   ]
  },
  {
   "cell_type": "markdown",
   "metadata": {},
   "source": [
    "#### 1.导入numpy库"
   ]
  },
  {
   "cell_type": "code",
   "metadata": {
    "collapsed": true,
    "ExecuteTime": {
     "end_time": "2025-03-05T06:32:45.492957Z",
     "start_time": "2025-03-05T06:32:45.488959Z"
    }
   },
   "source": "import numpy as np",
   "outputs": [],
   "execution_count": 25
  },
  {
   "cell_type": "markdown",
   "metadata": {},
   "source": [
    "#### 2.建立一个一维数组 a 初始化为[4,5,6], (1)输出a 的类型（type）(2)输出a的各维度的大小（shape）(3)输出 a的第一个元素（值为4）"
   ]
  },
  {
   "cell_type": "code",
   "metadata": {
    "collapsed": true,
    "ExecuteTime": {
     "end_time": "2025-03-05T06:32:45.517593Z",
     "start_time": "2025-03-05T06:32:45.513921Z"
    }
   },
   "source": [
    "a = np.array([4, 5, 6])\n",
    "print(\"a的类型是\", type(a))\n",
    "print(\"a的维度是\", a.shape)\n",
    "print(\"a的第一个元素是\", a[0])"
   ],
   "outputs": [
    {
     "name": "stdout",
     "output_type": "stream",
     "text": [
      "a的类型是 <class 'numpy.ndarray'>\n",
      "a的维度是 (3,)\n",
      "a的第一个元素是 4\n"
     ]
    }
   ],
   "execution_count": 26
  },
  {
   "cell_type": "markdown",
   "metadata": {},
   "source": [
    "#### 3.建立一个二维数组 b,初始化为 [ [4, 5, 6],[1, 2, 3]] (1)输出各维度的大小（shape）(2)输出 b(0,0)，b(0,1),b(1,1) 这三个元素（对应值分别为4,5,2）"
   ]
  },
  {
   "cell_type": "code",
   "metadata": {
    "collapsed": true,
    "ExecuteTime": {
     "end_time": "2025-03-05T06:32:45.538128Z",
     "start_time": "2025-03-05T06:32:45.534003Z"
    }
   },
   "source": [
    "b = np.array([[4, 5, 6], [1, 2, 3]])\n",
    "print(\"b的维度是\", b.shape)\n",
    "print(\"b[0][0]的值是\", b[0][0])\n",
    "print(\"b[0][1]的值是\", b[0][1])\n",
    "print(\"b[1][1]的值是\", b[1][1])"
   ],
   "outputs": [
    {
     "name": "stdout",
     "output_type": "stream",
     "text": [
      "b的维度是 (2, 3)\n",
      "b[0][0]的值是 4\n",
      "b[0][1]的值是 5\n",
      "b[1][1]的值是 2\n"
     ]
    }
   ],
   "execution_count": 27
  },
  {
   "cell_type": "markdown",
   "metadata": {},
   "source": [
    "#### 4.  (1)建立一个全0矩阵 a, 大小为 3x3; 类型为整型（提示: dtype = int）(2)建立一个全1矩阵b,大小为4x5;  (3)建立一个单位矩阵c ,大小为4x4; (4)生成一个随机数矩阵d,大小为 3x2."
   ]
  },
  {
   "cell_type": "code",
   "metadata": {
    "collapsed": true,
    "ExecuteTime": {
     "end_time": "2025-03-05T06:32:45.565679Z",
     "start_time": "2025-03-05T06:32:45.560661Z"
    }
   },
   "source": [
    "print(\"3x3全0矩阵:\\n\", np.zeros((3, 3), dtype=int))\n",
    "print(\"4x5全1矩阵:\\n\", np.ones((4, 5)))\n",
    "print(\"4x4单位矩阵:\\n\", np.eye(4))\n",
    "print(\"3x2随机数矩阵:\\n\", np.random.random((3, 2)))"
   ],
   "outputs": [
    {
     "name": "stdout",
     "output_type": "stream",
     "text": [
      "3x3全0矩阵:\n",
      " [[0 0 0]\n",
      " [0 0 0]\n",
      " [0 0 0]]\n",
      "4x5全1矩阵:\n",
      " [[1. 1. 1. 1. 1.]\n",
      " [1. 1. 1. 1. 1.]\n",
      " [1. 1. 1. 1. 1.]\n",
      " [1. 1. 1. 1. 1.]]\n",
      "4x4单位矩阵:\n",
      " [[1. 0. 0. 0.]\n",
      " [0. 1. 0. 0.]\n",
      " [0. 0. 1. 0.]\n",
      " [0. 0. 0. 1.]]\n",
      "3x2随机数矩阵:\n",
      " [[0.36170464 0.10094777]\n",
      " [0.81306462 0.54986066]\n",
      " [0.30123395 0.16651293]]\n"
     ]
    }
   ],
   "execution_count": 28
  },
  {
   "cell_type": "markdown",
   "metadata": {},
   "source": [
    "#### 5. 建立一个数组 a,(值为[[1, 2, 3, 4], [5, 6, 7, 8], [9, 10, 11, 12]] ) ,(1)打印a; (2)输出  下标为(2,3),(0,0) 这两个数组元素的值"
   ]
  },
  {
   "cell_type": "code",
   "metadata": {
    "collapsed": true,
    "ExecuteTime": {
     "end_time": "2025-03-05T06:33:11.165152Z",
     "start_time": "2025-03-05T06:33:11.159937Z"
    }
   },
   "source": [
    "a = np.array([[1, 2, 3, 4], [5, 6, 7, 8], [9, 10, 11, 12]])\n",
    "print(a)\n",
    "print(\"a[2][3]的值是\", a[2][3])\n",
    "print(\"a[0][0]的值是\", a[0][0])"
   ],
   "outputs": [
    {
     "name": "stdout",
     "output_type": "stream",
     "text": [
      "[[ 1  2  3  4]\n",
      " [ 5  6  7  8]\n",
      " [ 9 10 11 12]]\n",
      "a[2][3]的值是 12\n",
      "a[0][0]的值是 1\n"
     ]
    }
   ],
   "execution_count": 32
  },
  {
   "cell_type": "markdown",
   "metadata": {},
   "source": [
    "#### 6.把上一题的 a数组的 0到1行 2到3列，放到b里面去，（此处不需要从新建立a,直接调用即可）(1),输出b;(2) 输出b 的（0,0）这个元素的值"
   ]
  },
  {
   "cell_type": "code",
   "metadata": {
    "collapsed": true,
    "ExecuteTime": {
     "end_time": "2025-03-05T06:33:34.192063Z",
     "start_time": "2025-03-05T06:33:34.187568Z"
    }
   },
   "source": [
    "b = a[0:2, 2:4]\n",
    "print(b)\n",
    "print(\"b[0][0]的值是\", b[0][0])"
   ],
   "outputs": [
    {
     "name": "stdout",
     "output_type": "stream",
     "text": [
      "[[3 4]\n",
      " [7 8]]\n",
      "b[0][0]的值是 3\n"
     ]
    }
   ],
   "execution_count": 35
  },
  {
   "cell_type": "markdown",
   "metadata": {},
   "source": [
    " #### 7. 把第5题中数组a的最后两行所有元素放到 c中，（提示： a[1:2, :]）(1)输出 c ; (2) 输出 c 中第一行的最后一个元素（提示，使用 -1                 表示最后一个元素）"
   ]
  },
  {
   "cell_type": "code",
   "metadata": {
    "collapsed": true,
    "ExecuteTime": {
     "end_time": "2025-03-05T06:34:32.521923Z",
     "start_time": "2025-03-05T06:34:32.517203Z"
    }
   },
   "source": [
    "c = a[1:2, :]\n",
    "print(c)\n",
    "print(\"c中第一行的最后一个元素是\", c[0][-1])"
   ],
   "outputs": [
    {
     "name": "stdout",
     "output_type": "stream",
     "text": [
      "[[5 6 7 8]]\n",
      "c中第一行的最后一个元素是 8\n"
     ]
    }
   ],
   "execution_count": 37
  },
  {
   "cell_type": "markdown",
   "metadata": {},
   "source": [
    "#### 8.建立数组a,初始化a为[[1, 2], [3, 4], [5, 6]]，输出 （0,0）（1,1）（2,0）这三个元素（提示： 使用 print(a[[0, 1, 2], [0, 1, 0]]) ）"
   ]
  },
  {
   "cell_type": "code",
   "metadata": {
    "collapsed": true,
    "ExecuteTime": {
     "end_time": "2025-03-05T06:35:28.223651Z",
     "start_time": "2025-03-05T06:35:28.219256Z"
    }
   },
   "source": [
    "a = np.array([[1,2], [3,4], [5,6]])\n",
    "print(a[[0, 1, 2], [0, 1, 0]])"
   ],
   "outputs": [
    {
     "name": "stdout",
     "output_type": "stream",
     "text": [
      "[1 4 5]\n"
     ]
    }
   ],
   "execution_count": 38
  },
  {
   "cell_type": "markdown",
   "metadata": {},
   "source": [
    "#### 9.建立矩阵a ,初始化为[[1, 2, 3], [4, 5, 6], [7, 8, 9], [10, 11, 12]]，输出(0,0),(1,2),(2,0),(3,1) (提示使用 b = np.array([0, 2, 0, 1])                     print(a[np.arange(4), b]))"
   ]
  },
  {
   "cell_type": "code",
   "metadata": {
    "collapsed": true,
    "ExecuteTime": {
     "end_time": "2025-03-05T06:38:39.507798Z",
     "start_time": "2025-03-05T06:38:39.503288Z"
    }
   },
   "source": [
    "a = np.array([[1,2,3], [4,5,6], [7,8,9], [10,11,12]])\n",
    "b = np.array([0, 2, 0, 1])\n",
    "print(a[np.arange(4), b])"
   ],
   "outputs": [
    {
     "name": "stdout",
     "output_type": "stream",
     "text": [
      "[ 1  6  7 11]\n"
     ]
    }
   ],
   "execution_count": 41
  },
  {
   "cell_type": "markdown",
   "metadata": {},
   "source": [
    "#### 10.对9 中输出的那四个元素，每个都加上10，然后重新输出矩阵a.(提示： a[np.arange(4), b] += 10 ）"
   ]
  },
  {
   "cell_type": "code",
   "metadata": {
    "collapsed": true,
    "ExecuteTime": {
     "end_time": "2025-03-05T06:38:40.476709Z",
     "start_time": "2025-03-05T06:38:40.472215Z"
    }
   },
   "source": [
    "a[np.arange(4), b] += 10\n",
    "print(a)"
   ],
   "outputs": [
    {
     "name": "stdout",
     "output_type": "stream",
     "text": [
      "[[11  2  3]\n",
      " [ 4  5 16]\n",
      " [17  8  9]\n",
      " [10 21 12]]\n"
     ]
    }
   ],
   "execution_count": 42
  },
  {
   "cell_type": "markdown",
   "metadata": {},
   "source": [
    "### array 的数学运算"
   ]
  },
  {
   "cell_type": "markdown",
   "metadata": {},
   "source": [
    "#### 11.  执行 x = np.array([1, 2])，然后输出 x 的数据类型"
   ]
  },
  {
   "cell_type": "code",
   "metadata": {
    "collapsed": true,
    "ExecuteTime": {
     "end_time": "2025-03-05T06:39:25.556656Z",
     "start_time": "2025-03-05T06:39:25.552899Z"
    }
   },
   "source": [
    "x = np.array([1, 2])\n",
    "print(\"x的数据类型是\", x.dtype)"
   ],
   "outputs": [
    {
     "name": "stdout",
     "output_type": "stream",
     "text": [
      "x的数据类型是 int32\n"
     ]
    }
   ],
   "execution_count": 44
  },
  {
   "cell_type": "markdown",
   "metadata": {},
   "source": [
    "#### 12.执行 x = np.array([1.0, 2.0]) ，然后输出 x 的数据类类型"
   ]
  },
  {
   "cell_type": "code",
   "metadata": {
    "collapsed": true,
    "ExecuteTime": {
     "end_time": "2025-03-05T06:39:34.867414Z",
     "start_time": "2025-03-05T06:39:34.863835Z"
    }
   },
   "source": [
    "x = np.array([1.0, 2.0])\n",
    "print(\"x的数据类型是\", x.dtype)"
   ],
   "outputs": [
    {
     "name": "stdout",
     "output_type": "stream",
     "text": [
      "x的数据类型是 float64\n"
     ]
    }
   ],
   "execution_count": 45
  },
  {
   "cell_type": "markdown",
   "metadata": {},
   "source": [
    "#### 13.执行 x = np.array([[1, 2], [3, 4]], dtype=np.float64) ，y = np.array([[5, 6], [7, 8]], dtype=np.float64)，然后输出 x+y ,和 np.add(x,y)"
   ]
  },
  {
   "cell_type": "code",
   "metadata": {
    "collapsed": true,
    "ExecuteTime": {
     "end_time": "2025-03-05T06:40:28.920020Z",
     "start_time": "2025-03-05T06:40:28.916532Z"
    }
   },
   "source": [
    "x = np.array([[1, 2], [3, 4]], dtype=np.float64)\n",
    "y = np.array([[5, 6], [7, 8]], dtype=np.float64)\n",
    "print(\"x+y= \\n \", x+y)\n",
    "print(\"np.add(x,y)= \\n\", np.add(x,y))"
   ],
   "outputs": [
    {
     "name": "stdout",
     "output_type": "stream",
     "text": [
      "x+y= \n",
      "  [[ 6.  8.]\n",
      " [10. 12.]]\n",
      "np.add(x,y)= \n",
      " [[ 6.  8.]\n",
      " [10. 12.]]\n"
     ]
    }
   ],
   "execution_count": 47
  },
  {
   "cell_type": "markdown",
   "metadata": {},
   "source": [
    "#### 14. 利用 13题目中的x,y 输出 x-y 和 np.subtract(x,y)"
   ]
  },
  {
   "cell_type": "code",
   "metadata": {
    "collapsed": true,
    "ExecuteTime": {
     "end_time": "2025-03-05T06:41:17.343503Z",
     "start_time": "2025-03-05T06:41:17.339362Z"
    }
   },
   "source": [
    "print(\"x-y= \\n \", x-y)\n",
    "print(\"np.subtract(x,y)= \\n\", np.subtract(x,y))"
   ],
   "outputs": [
    {
     "name": "stdout",
     "output_type": "stream",
     "text": [
      "x-y= \n",
      "  [[-4. -4.]\n",
      " [-4. -4.]]\n",
      "np.subtract(x,y)= \n",
      " [[-4. -4.]\n",
      " [-4. -4.]]\n"
     ]
    }
   ],
   "execution_count": 48
  },
  {
   "cell_type": "markdown",
   "metadata": {},
   "source": [
    "#### 15. 利用13题目中的x，y 输出 x*y ,和 np.multiply(x, y) 还有  np.dot(x,y),比较差异。然后自己换一个不是方阵的试试。"
   ]
  },
  {
   "cell_type": "code",
   "metadata": {
    "collapsed": true,
    "ExecuteTime": {
     "end_time": "2025-03-05T06:43:32.888618Z",
     "start_time": "2025-03-05T06:43:32.884281Z"
    }
   },
   "source": [
    "print(\"x*y= \\n \", x*y)\n",
    "print(\"np.multiply(x, y)= \\n\", np.multiply(x, y))\n",
    "print(\"np.dot(x,y)(矩阵乘法)= \\n\", np.dot(x,y))"
   ],
   "outputs": [
    {
     "name": "stdout",
     "output_type": "stream",
     "text": [
      "x*y= \n",
      "  [[ 5. 12.]\n",
      " [21. 32.]]\n",
      "np.multiply(x, y)= \n",
      " [[ 5. 12.]\n",
      " [21. 32.]]\n",
      "np.dot(x,y)(矩阵乘法)= \n",
      " [[19. 22.]\n",
      " [43. 50.]]\n"
     ]
    }
   ],
   "execution_count": 52
  },
  {
   "cell_type": "markdown",
   "metadata": {},
   "source": [
    "#### 16. 利用13题目中的x,y,输出 x / y .(提示 ： 使用函数 np.divide())"
   ]
  },
  {
   "cell_type": "code",
   "metadata": {
    "ExecuteTime": {
     "end_time": "2025-03-05T06:43:17.243246Z",
     "start_time": "2025-03-05T06:43:17.237660Z"
    }
   },
   "source": [
    "print(\"x/y= \\n \", x/y)\n",
    "print(\"np.divide(x, y)= \\n\", np.divide(x, y))"
   ],
   "outputs": [
    {
     "name": "stdout",
     "output_type": "stream",
     "text": [
      "x/y= \n",
      "  [[0.2        0.33333333]\n",
      " [0.42857143 0.5       ]]\n",
      "np.divide(x, y)= \n",
      " [[0.2        0.33333333]\n",
      " [0.42857143 0.5       ]]\n"
     ]
    }
   ],
   "execution_count": 51
  },
  {
   "cell_type": "markdown",
   "metadata": {},
   "source": [
    "#### 17. 利用13题目中的x,输出 x的 开方。(提示： 使用函数 np.sqrt() )"
   ]
  },
  {
   "cell_type": "code",
   "metadata": {
    "collapsed": true,
    "ExecuteTime": {
     "end_time": "2025-03-05T06:43:59.270564Z",
     "start_time": "2025-03-05T06:43:59.267367Z"
    }
   },
   "source": "print(\"x的开方= \\n \", np.sqrt(x))",
   "outputs": [
    {
     "name": "stdout",
     "output_type": "stream",
     "text": [
      "x的开方= \n",
      "  [[1.         1.41421356]\n",
      " [1.73205081 2.        ]]\n"
     ]
    }
   ],
   "execution_count": 53
  },
  {
   "cell_type": "markdown",
   "metadata": {},
   "source": [
    "#### 18.利用13题目中的x,y ,执行 print(x.dot(y)) 和 print(np.dot(x,y))"
   ]
  },
  {
   "cell_type": "code",
   "metadata": {
    "collapsed": true,
    "ExecuteTime": {
     "end_time": "2025-03-05T06:44:45.742112Z",
     "start_time": "2025-03-05T06:44:45.738029Z"
    }
   },
   "source": [
    "print(\"x.dot(y)\\n\", x.dot(y))\n",
    "print(\"np.dot(x,y)\\n\", np.dot(x,y))"
   ],
   "outputs": [
    {
     "name": "stdout",
     "output_type": "stream",
     "text": [
      "x.dot(y)\n",
      " [[19. 22.]\n",
      " [43. 50.]]\n",
      "np.dot(x,y)\n",
      " [[19. 22.]\n",
      " [43. 50.]]\n"
     ]
    }
   ],
   "execution_count": 56
  },
  {
   "cell_type": "markdown",
   "metadata": {},
   "source": [
    "##### 19.利用13题目中的 x,进行求和。提示：输出三种求和 (1)print(np.sum(x)):   (2)print(np.sum(x，axis =0 ));   (3)print(np.sum(x,axis = 1))"
   ]
  },
  {
   "cell_type": "code",
   "metadata": {
    "collapsed": true,
    "ExecuteTime": {
     "end_time": "2025-03-05T06:47:31.524412Z",
     "start_time": "2025-03-05T06:47:31.517983Z"
    }
   },
   "source": [
    "print(\"np.sum(x)\", np.sum(x))\n",
    "print(\"np.sum(x, axis = 0)\", np.sum(x, axis = 0))\n",
    "print(\"np.sum(x, axis = 1)\", np.sum(x, axis = 1))"
   ],
   "outputs": [
    {
     "name": "stdout",
     "output_type": "stream",
     "text": [
      "np.sum(x) 10.0\n",
      "np.sum(x, axis = 0) [4. 6.]\n",
      "np.sum(x, axis = 1) [3. 7.]\n"
     ]
    }
   ],
   "execution_count": 59
  },
  {
   "cell_type": "markdown",
   "metadata": {},
   "source": [
    "#### 20.利用13题目中的 x,进行求平均数（提示：输出三种平均数(1)print(np.mean(x)) (2)print(np.mean(x,axis = 0))(3) print(np.mean(x,axis =1))）"
   ]
  },
  {
   "cell_type": "code",
   "metadata": {
    "collapsed": true,
    "ExecuteTime": {
     "end_time": "2025-03-05T06:47:26.578931Z",
     "start_time": "2025-03-05T06:47:26.575092Z"
    }
   },
   "source": [
    "print(\"np.mean(x)\", np.mean(x))\n",
    "print(\"np.mean(x, axis = 0)\", np.mean(x, axis = 0))\n",
    "print(\"np.mean(x, axis = 1)\", np.mean(x, axis = 1))"
   ],
   "outputs": [
    {
     "name": "stdout",
     "output_type": "stream",
     "text": [
      "np.mean(x) 2.5\n",
      "np.mean(x, axis = 0) [2. 3.]\n",
      "np.mean(x, axis = 1) [1.5 3.5]\n"
     ]
    }
   ],
   "execution_count": 58
  },
  {
   "cell_type": "markdown",
   "metadata": {},
   "source": [
    "#### 21.利用13题目中的x，对x 进行矩阵转置，然后输出转置后的结果，（提示： x.T 表示对 x 的转置）"
   ]
  },
  {
   "cell_type": "code",
   "metadata": {
    "collapsed": true,
    "ExecuteTime": {
     "end_time": "2025-03-05T06:48:06.616916Z",
     "start_time": "2025-03-05T06:48:06.613358Z"
    }
   },
   "source": "print(\"矩阵x的转置是\\n\", x.T)",
   "outputs": [
    {
     "name": "stdout",
     "output_type": "stream",
     "text": [
      "矩阵x的转置是\n",
      " [[1. 3.]\n",
      " [2. 4.]]\n"
     ]
    }
   ],
   "execution_count": 61
  },
  {
   "cell_type": "markdown",
   "metadata": {
    "collapsed": true
   },
   "source": [
    "#### 22.利用13题目中的x,求e的指数（提示： 函数 np.exp()）"
   ]
  },
  {
   "cell_type": "code",
   "metadata": {
    "collapsed": true,
    "ExecuteTime": {
     "end_time": "2025-03-05T06:48:44.978743Z",
     "start_time": "2025-03-05T06:48:44.974748Z"
    }
   },
   "source": "print(\"np.exp(x)\\n\", np.exp(x))",
   "outputs": [
    {
     "name": "stdout",
     "output_type": "stream",
     "text": [
      "np.exp(x)\n",
      " [[ 2.71828183  7.3890561 ]\n",
      " [20.08553692 54.59815003]]\n"
     ]
    }
   ],
   "execution_count": 65
  },
  {
   "cell_type": "markdown",
   "metadata": {},
   "source": [
    "#### 23.利用13题目中的 x,求值最大的下标（提示(1)print(np.argmax(x)) ,(2) print(np.argmax(x, axis =0))(3)print(np.argmax(x),axis =1))"
   ]
  },
  {
   "cell_type": "code",
   "metadata": {
    "ExecuteTime": {
     "end_time": "2025-03-05T06:52:49.000712Z",
     "start_time": "2025-03-05T06:52:48.996241Z"
    }
   },
   "source": [
    "print(x)\n",
    "print(\"np.argmax(x) 返回最大值的扁平化后的索引\", np.argmax(x))\n",
    "print(\"np.argmax(x, axis = 0) 返回每列最大值的索引\", np.argmax(x, axis = 0))\n",
    "print(\"np.argmax(x, axis = 1) 返回每行最大值的索引\", np.argmax(x, axis = 1))"
   ],
   "outputs": [
    {
     "name": "stdout",
     "output_type": "stream",
     "text": [
      "[[1. 2.]\n",
      " [3. 4.]]\n",
      "np.argmax(x) 返回最大值的扁平化后的索引 3\n",
      "np.argmax(x, axis = 0) 返回每列最大值的索引 [1 1]\n",
      "np.argmax(x, axis = 1) 返回每行最大值的索引 [1 1]\n"
     ]
    }
   ],
   "execution_count": 70
  },
  {
   "cell_type": "markdown",
   "metadata": {},
   "source": [
    "#### 24,画图，y=x*x 其中 x = np.arange(0, 100, 0.1) （提示这里用到  matplotlib.pyplot 库）"
   ]
  },
  {
   "cell_type": "code",
   "metadata": {
    "collapsed": true,
    "ExecuteTime": {
     "end_time": "2025-03-05T06:54:44.580003Z",
     "start_time": "2025-03-05T06:54:43.020370Z"
    }
   },
   "source": [
    "import matplotlib.pyplot as plt\n",
    "x = np.arange(0, 100, 0.1)\n",
    "y = x**2\n",
    "plt.plot(x, y)\n",
    "plt.xlabel(\"x\")\n",
    "plt.ylabel(\"y = x^2\")\n",
    "plt.grid(True)\n",
    "plt.show()"
   ],
   "outputs": [
    {
     "data": {
      "text/plain": [
       "<Figure size 640x480 with 1 Axes>"
      ],
      "image/png": "[encoded data removed]"
     },
     "metadata": {},
     "output_type": "display_data"
    }
   ],
   "execution_count": 71
  },
  {
   "cell_type": "markdown",
   "metadata": {},
   "source": [
    "#### 25.画图。画正弦函数和余弦函数， x = np.arange(0, 3 * np.pi, 0.1)(提示：这里用到 np.sin() np.cos() 函数和 matplotlib.pyplot 库)"
   ]
  },
  {
   "cell_type": "code",
   "metadata": {
    "collapsed": true,
    "ExecuteTime": {
     "end_time": "2025-03-05T06:56:15.313117Z",
     "start_time": "2025-03-05T06:56:15.218054Z"
    }
   },
   "source": [
    "x = np.arange(0, 3 * np.pi, 0.1)\n",
    "\n",
    "y_sin = np.sin(x)\n",
    "y_cos = np.cos(x)\n",
    "\n",
    "plt.plot(x, y_sin, label='sin(x)')\n",
    "plt.plot(x, y_cos, label='cos(x)')\n",
    "plt.xlabel('x')\n",
    "plt.ylabel('y')\n",
    "plt.legend() # 显示图例\n",
    "plt.grid(True) # 显示网格\n",
    "plt.show()\n"
   ],
   "outputs": [
    {
     "data": {
      "text/plain": [
       "<Figure size 640x480 with 1 Axes>"
      ],
      "image/png": "[encoded data removed]"
     },
     "metadata": {},
     "output_type": "display_data"
    }
   ],
   "execution_count": 73
  }
 ],
 "metadata": {
  "anaconda-cloud": {},
  "kernelspec": {
   "display_name": "Python 3",
   "language": "python",
   "name": "python3"
  },
  "language_info": {
   "codemirror_mode": {
    "name": "ipython",
    "version": 3
   },
   "file_extension": ".py",
   "mimetype": "text/x-python",
   "name": "python",
   "nbconvert_exporter": "python",
   "pygments_lexer": "ipython3",
   "version": "3.7.0"
  }
 },
 "nbformat": 4,
 "nbformat_minor": 1
}
