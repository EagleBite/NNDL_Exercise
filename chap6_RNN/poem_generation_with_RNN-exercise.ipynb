{
 "cells": [
  {
   "cell_type": "markdown",
   "metadata": {},
   "source": [
    "# 诗歌生成"
   ]
  },
  {
   "cell_type": "markdown",
   "metadata": {},
   "source": [
    "# 数据处理"
   ]
  },
  {
   "cell_type": "code",
   "execution_count": 1,
   "metadata": {},
   "outputs": [
    {
     "name": "stdout",
     "output_type": "stream",
     "text": [
      "2.10.0\n"
     ]
    }
   ],
   "source": [
    "import numpy as np\n",
    "import tensorflow as tf\n",
    "import collections\n",
    "from tensorflow import keras\n",
    "from tensorflow.keras import layers\n",
    "from tensorflow.keras import layers, optimizers, datasets\n",
    "\n",
    "print(tf.__version__)\n",
    "\n",
    "start_token = 'bos'\n",
    "end_token = 'eos'\n",
    "\n",
    "def process_dataset(fileName):\n",
    "    \"\"\"\n",
    "        读取数据集并进行预处理\n",
    "        最终返回 :\n",
    "         标记化的数据\n",
    "         单词到索引的映射(word2id)\n",
    "         索引到单词的映射(id2word)\n",
    "    \"\"\"\n",
    "    examples = []\n",
    "    with open(fileName, 'r') as fd:\n",
    "        for line in fd:\n",
    "            outs = line.strip().split(':')\n",
    "            content = ''.join(outs[1:])\n",
    "            ins = [start_token] + list(content) + [end_token] # 添加起始 & 终止标记\n",
    "            if len(ins) > 200:  # 过滤掉超过 200 长度的句子\n",
    "                continue\n",
    "            examples.append(ins)\n",
    "            \n",
    "    counter = collections.Counter()\n",
    "    for e in examples:\n",
    "        for w in e:\n",
    "            counter[w]+=1\n",
    "    \n",
    "    sorted_counter = sorted(counter.items(), key=lambda x: -x[1])  # 排序\n",
    "    words, _ = zip(*sorted_counter)\n",
    "    words = ('PAD', 'UNK') + words[:len(words)]\n",
    "    word2id = dict(zip(words, range(len(words))))\n",
    "    id2word = {word2id[k]:k for k in word2id}\n",
    "    \n",
    "    indexed_examples = [[word2id[w] for w in poem]\n",
    "                        for poem in examples] # 将文本转换为 ID 序列\n",
    "    seqlen = [len(e) for e in indexed_examples]\n",
    "    \n",
    "    instances = list(zip(indexed_examples, seqlen))\n",
    "    \n",
    "    return instances, word2id, id2word\n",
    "\n",
    "def poem_dataset():\n",
    "    instances, word2id, id2word = process_dataset('./poems.txt')\n",
    "    ds = tf.data.Dataset.from_generator(lambda: [ins for ins in instances], \n",
    "                                            (tf.int64, tf.int64), \n",
    "                                            (tf.TensorShape([None]),tf.TensorShape([])))\n",
    "    ds = ds.shuffle(buffer_size=10240)\n",
    "    ds = ds.padded_batch(100, padded_shapes=(tf.TensorShape([None]),tf.TensorShape([])))\n",
    "    ds = ds.map(lambda x, seqlen: (x[:, :-1], x[:, 1:], seqlen-1))\n",
    "    return ds, word2id, id2word"
   ]
  },
  {
   "cell_type": "markdown",
   "metadata": {},
   "source": [
    "# 模型代码， 完成建模代码"
   ]
  },
  {
   "cell_type": "code",
   "execution_count": 2,
   "metadata": {},
   "outputs": [],
   "source": [
    "class myRNNModel(keras.Model):\n",
    "    def __init__(self, w2id):\n",
    "        super(myRNNModel, self).__init__()\n",
    "        self.v_sz = len(w2id)\n",
    "        self.embed_layer = tf.keras.layers.Embedding(self.v_sz, 64, \n",
    "                                                    batch_input_shape=[None, None])\n",
    "        \n",
    "        self.rnncell = tf.keras.layers.SimpleRNNCell(128)\n",
    "        self.rnn_layer = tf.keras.layers.RNN(self.rnncell, return_sequences=True)\n",
    "        self.dense = tf.keras.layers.Dense(self.v_sz)\n",
    "        \n",
    "    @tf.function\n",
    "    def call(self, inp_ids):\n",
    "        '''\n",
    "        此处完成建模过程，可以参考Learn2Carry\n",
    "        '''\n",
    "        embedded_ids = self.embed_layer(inp_ids)\n",
    "        rnn_output = self.rnn_layer(embedded_ids)\n",
    "        logits = self.dense(rnn_output)\n",
    "\n",
    "        return logits\n",
    "    \n",
    "    @tf.function\n",
    "    def get_next_token(self, x, state):\n",
    "        '''\n",
    "        shape(x) = [b_sz,] \n",
    "        '''\n",
    "    \n",
    "        inp_emb = self.embed_layer(x) #shape(b_sz, emb_sz)\n",
    "        h, state = self.rnncell.call(inp_emb, state) # shape(b_sz, h_sz)\n",
    "        logits = self.dense(h) # shape(b_sz, v_sz)\n",
    "        out = tf.argmax(logits, axis=-1)\n",
    "        return out, state"
   ]
  },
  {
   "cell_type": "markdown",
   "metadata": {},
   "source": [
    "## 一个计算sequence loss的辅助函数，只需了解用途。"
   ]
  },
  {
   "cell_type": "code",
   "execution_count": 3,
   "metadata": {},
   "outputs": [],
   "source": [
    "def mkMask(input_tensor, maxLen):\n",
    "    shape_of_input = tf.shape(input_tensor)\n",
    "    shape_of_output = tf.concat(axis=0, values=[shape_of_input, [maxLen]])\n",
    "\n",
    "    oneDtensor = tf.reshape(input_tensor, shape=(-1,))\n",
    "    flat_mask = tf.sequence_mask(oneDtensor, maxlen=maxLen)\n",
    "    return tf.reshape(flat_mask, shape_of_output)\n",
    "\n",
    "\n",
    "def reduce_avg(reduce_target, lengths, dim):\n",
    "    \"\"\"\n",
    "    Args:\n",
    "        reduce_target : shape(d_0, d_1,..,d_dim, .., d_k)\n",
    "        lengths : shape(d0, .., d_(dim-1))\n",
    "        dim : which dimension to average, should be a python number\n",
    "    \"\"\"\n",
    "    shape_of_lengths = lengths.get_shape()\n",
    "    shape_of_target = reduce_target.get_shape()\n",
    "    if len(shape_of_lengths) != dim:\n",
    "        raise ValueError(('Second input tensor should be rank %d, ' +\n",
    "                         'while it got rank %d') % (dim, len(shape_of_lengths)))\n",
    "    if len(shape_of_target) < dim+1 :\n",
    "        raise ValueError(('First input tensor should be at least rank %d, ' +\n",
    "                         'while it got rank %d') % (dim+1, len(shape_of_target)))\n",
    "\n",
    "    rank_diff = len(shape_of_target) - len(shape_of_lengths) - 1\n",
    "    mxlen = tf.shape(reduce_target)[dim]\n",
    "    mask = mkMask(lengths, mxlen)\n",
    "    if rank_diff!=0:\n",
    "        len_shape = tf.concat(axis=0, values=[tf.shape(lengths), [1]*rank_diff])\n",
    "        mask_shape = tf.concat(axis=0, values=[tf.shape(mask), [1]*rank_diff])\n",
    "    else:\n",
    "        len_shape = tf.shape(lengths)\n",
    "        mask_shape = tf.shape(mask)\n",
    "    lengths_reshape = tf.reshape(lengths, shape=len_shape)\n",
    "    mask = tf.reshape(mask, shape=mask_shape)\n",
    "\n",
    "    mask_target = reduce_target * tf.cast(mask, dtype=reduce_target.dtype)\n",
    "\n",
    "    red_sum = tf.reduce_sum(mask_target, axis=[dim], keepdims=False)\n",
    "    red_avg = red_sum / (tf.cast(lengths_reshape, dtype=tf.float32) + 1e-30)\n",
    "    return red_avg"
   ]
  },
  {
   "cell_type": "markdown",
   "metadata": {},
   "source": [
    "# 定义loss函数，定义训练函数"
   ]
  },
  {
   "cell_type": "code",
   "execution_count": 4,
   "metadata": {},
   "outputs": [],
   "source": [
    "@tf.function\n",
    "def compute_loss(logits, labels, seqlen):\n",
    "    losses = tf.nn.sparse_softmax_cross_entropy_with_logits(\n",
    "            logits=logits, labels=labels)\n",
    "    losses = reduce_avg(losses, seqlen, dim=1)\n",
    "    return tf.reduce_mean(losses)\n",
    "\n",
    "@tf.function\n",
    "def train_one_step(model, optimizer, x, y, seqlen):\n",
    "    '''\n",
    "    完成一步优化过程，可以参考之前做过的模型\n",
    "    '''\n",
    "    with tf.GradientTape() as tape:\n",
    "        logits = model(x)\n",
    "        loss = compute_loss(logits, y, seqlen)\n",
    "\n",
    "    # compute gradient\n",
    "    grads = tape.gradient(loss, model.trainable_variables)\n",
    "    optimizer.apply_gradients(zip(grads, model.trainable_variables))\n",
    "    return loss\n",
    "\n",
    "def train(epoch, model, optimizer, ds):\n",
    "    loss = 0.0\n",
    "    accuracy = 0.0\n",
    "    for step, (x, y, seqlen) in enumerate(ds):\n",
    "        loss = train_one_step(model, optimizer, x, y, seqlen)\n",
    "\n",
    "        if step % 50 == 0:\n",
    "            print(f\"Epoch {epoch}, Step {step}: Loss = {loss.numpy()}\")\n",
    "\n",
    "    return loss"
   ]
  },
  {
   "cell_type": "markdown",
   "metadata": {},
   "source": [
    "# 训练优化过程"
   ]
  },
  {
   "cell_type": "code",
   "execution_count": 5,
   "metadata": {},
   "outputs": [
    {
     "name": "stdout",
     "output_type": "stream",
     "text": [
      "Epoch 0, Step 0: Loss = 8.820239067077637\n",
      "WARNING:tensorflow:5 out of the last 17 calls to <function train_one_step at 0x000001CA77EE0DC0> triggered tf.function retracing. Tracing is expensive and the excessive number of tracings could be due to (1) creating @tf.function repeatedly in a loop, (2) passing tensors with different shapes, (3) passing Python objects instead of tensors. For (1), please define your @tf.function outside of the loop. For (2), @tf.function has reduce_retracing=True option that can avoid unnecessary retracing. For (3), please refer to https://www.tensorflow.org/guide/function#controlling_retracing and https://www.tensorflow.org/api_docs/python/tf/function for  more details.\n",
      "WARNING:tensorflow:5 out of the last 13 calls to <function train_one_step at 0x000001CA77EE0DC0> triggered tf.function retracing. Tracing is expensive and the excessive number of tracings could be due to (1) creating @tf.function repeatedly in a loop, (2) passing tensors with different shapes, (3) passing Python objects instead of tensors. For (1), please define your @tf.function outside of the loop. For (2), @tf.function has reduce_retracing=True option that can avoid unnecessary retracing. For (3), please refer to https://www.tensorflow.org/guide/function#controlling_retracing and https://www.tensorflow.org/api_docs/python/tf/function for  more details.\n",
      "Epoch 0, Step 50: Loss = 6.859625816345215\n",
      "Epoch 0, Step 100: Loss = 6.5356903076171875\n",
      "Epoch 0, Step 150: Loss = 6.57412576675415\n",
      "Epoch 0, Step 200: Loss = 6.529339790344238\n",
      "Epoch 0, Step 250: Loss = 6.520025730133057\n",
      "Epoch 0, Step 300: Loss = 6.504893779754639\n",
      "Epoch 0, Step 350: Loss = 6.490492343902588\n",
      "Epoch 0, Step 400: Loss = 6.5844292640686035\n",
      "Epoch 1, Step 0: Loss = 6.5637969970703125\n",
      "Epoch 1, Step 50: Loss = 6.457094669342041\n",
      "Epoch 1, Step 100: Loss = 6.4044108390808105\n",
      "Epoch 1, Step 150: Loss = 6.34145975112915\n",
      "Epoch 1, Step 200: Loss = 6.225143909454346\n",
      "Epoch 1, Step 250: Loss = 6.20179557800293\n",
      "Epoch 1, Step 300: Loss = 6.089751720428467\n",
      "Epoch 1, Step 350: Loss = 6.0774993896484375\n",
      "Epoch 1, Step 400: Loss = 6.062286376953125\n",
      "Epoch 2, Step 0: Loss = 6.038494110107422\n",
      "Epoch 2, Step 50: Loss = 5.825170993804932\n",
      "Epoch 2, Step 100: Loss = 5.909762382507324\n",
      "Epoch 2, Step 150: Loss = 5.851113796234131\n",
      "Epoch 2, Step 200: Loss = 5.925949573516846\n",
      "Epoch 2, Step 250: Loss = 5.9070940017700195\n",
      "Epoch 2, Step 300: Loss = 5.796334743499756\n",
      "Epoch 2, Step 350: Loss = 5.844452381134033\n",
      "Epoch 2, Step 400: Loss = 5.869434356689453\n",
      "Epoch 3, Step 0: Loss = 5.8536882400512695\n",
      "Epoch 3, Step 50: Loss = 5.849655628204346\n",
      "Epoch 3, Step 100: Loss = 5.748812675476074\n",
      "Epoch 3, Step 150: Loss = 5.665849685668945\n",
      "Epoch 3, Step 200: Loss = 5.6689133644104\n",
      "Epoch 3, Step 250: Loss = 5.757522106170654\n",
      "Epoch 3, Step 300: Loss = 5.705041408538818\n",
      "Epoch 3, Step 350: Loss = 5.667477607727051\n",
      "Epoch 3, Step 400: Loss = 5.753755569458008\n",
      "Epoch 4, Step 0: Loss = 5.718094348907471\n",
      "Epoch 4, Step 50: Loss = 5.637862682342529\n",
      "Epoch 4, Step 100: Loss = 5.593189716339111\n",
      "Epoch 4, Step 150: Loss = 5.633103847503662\n",
      "Epoch 4, Step 200: Loss = 5.589445114135742\n",
      "Epoch 4, Step 250: Loss = 5.512303352355957\n",
      "Epoch 4, Step 300: Loss = 5.5806684494018555\n",
      "Epoch 4, Step 350: Loss = 5.5647149085998535\n",
      "Epoch 4, Step 400: Loss = 5.493391036987305\n",
      "Epoch 5, Step 0: Loss = 5.529468536376953\n",
      "Epoch 5, Step 50: Loss = 5.497560977935791\n",
      "Epoch 5, Step 100: Loss = 5.495725631713867\n",
      "Epoch 5, Step 150: Loss = 5.431980609893799\n",
      "Epoch 5, Step 200: Loss = 5.389328479766846\n",
      "Epoch 5, Step 250: Loss = 5.441478729248047\n",
      "Epoch 5, Step 300: Loss = 5.32612419128418\n",
      "Epoch 5, Step 350: Loss = 5.437187671661377\n",
      "Epoch 5, Step 400: Loss = 5.524583339691162\n",
      "Epoch 6, Step 0: Loss = 5.414867401123047\n",
      "Epoch 6, Step 50: Loss = 5.367841720581055\n",
      "Epoch 6, Step 100: Loss = 5.3908843994140625\n",
      "Epoch 6, Step 150: Loss = 5.291584491729736\n",
      "Epoch 6, Step 200: Loss = 5.203281879425049\n",
      "Epoch 6, Step 250: Loss = 5.202531814575195\n",
      "Epoch 6, Step 300: Loss = 5.380316257476807\n",
      "Epoch 6, Step 350: Loss = 5.347649097442627\n",
      "Epoch 6, Step 400: Loss = 5.225841522216797\n",
      "Epoch 7, Step 0: Loss = 5.298655986785889\n",
      "Epoch 7, Step 50: Loss = 5.2031378746032715\n",
      "Epoch 7, Step 100: Loss = 5.309842109680176\n",
      "Epoch 7, Step 150: Loss = 5.216921329498291\n",
      "Epoch 7, Step 200: Loss = 5.275264739990234\n",
      "Epoch 7, Step 250: Loss = 5.211052417755127\n",
      "Epoch 7, Step 300: Loss = 5.206492900848389\n",
      "Epoch 7, Step 350: Loss = 5.3639960289001465\n",
      "Epoch 7, Step 400: Loss = 5.265231132507324\n",
      "Epoch 8, Step 0: Loss = 5.258710861206055\n",
      "Epoch 8, Step 50: Loss = 5.1883544921875\n",
      "Epoch 8, Step 100: Loss = 5.274913311004639\n",
      "Epoch 8, Step 150: Loss = 5.223763465881348\n",
      "Epoch 8, Step 200: Loss = 5.106975078582764\n",
      "Epoch 8, Step 250: Loss = 5.136646747589111\n",
      "Epoch 8, Step 300: Loss = 5.15970516204834\n",
      "Epoch 8, Step 350: Loss = 5.198441028594971\n",
      "Epoch 8, Step 400: Loss = 5.221292018890381\n",
      "Epoch 9, Step 0: Loss = 5.309746265411377\n",
      "Epoch 9, Step 50: Loss = 5.103964328765869\n",
      "Epoch 9, Step 100: Loss = 5.170004367828369\n",
      "Epoch 9, Step 150: Loss = 5.075197219848633\n",
      "Epoch 9, Step 200: Loss = 5.1412200927734375\n",
      "Epoch 9, Step 250: Loss = 5.108919143676758\n",
      "Epoch 9, Step 300: Loss = 5.181363105773926\n",
      "Epoch 9, Step 350: Loss = 5.142521381378174\n",
      "Epoch 9, Step 400: Loss = 5.1660003662109375\n"
     ]
    }
   ],
   "source": [
    "optimizer = optimizers.Adam(0.0005)\n",
    "train_ds, word2id, id2word = poem_dataset()\n",
    "model = myRNNModel(word2id)\n",
    "\n",
    "for epoch in range(10):\n",
    "    loss = train(epoch, model, optimizer, train_ds)"
   ]
  },
  {
   "cell_type": "markdown",
   "metadata": {},
   "source": [
    "# 生成过程"
   ]
  },
  {
   "cell_type": "code",
   "execution_count": 8,
   "metadata": {},
   "outputs": [
    {
     "name": "stdout",
     "output_type": "stream",
     "text": [
      "雨中风雨落，风雨落花声。eos有无人事，何人不可知。eos来无处处，不得一年年。eos有无人事，何人不可知。eos来\n"
     ]
    }
   ],
   "source": [
    "def gen_sentence():\n",
    "    state = [tf.random.normal(shape=(1, 128), stddev=0.5), tf.random.normal(shape=(1, 128), stddev=0.5)]\n",
    "    cur_token = tf.constant([word2id['bos']], dtype=tf.int32)\n",
    "    collect = []\n",
    "    for _ in range(50):\n",
    "        cur_token, state = model.get_next_token(cur_token, state)\n",
    "        collect.append(cur_token.numpy()[0])\n",
    "    return [id2word[t] for t in collect]\n",
    "print(''.join(gen_sentence()))"
   ]
  },
  {
   "cell_type": "code",
   "execution_count": null,
   "metadata": {},
   "outputs": [],
   "source": []
  },
  {
   "cell_type": "code",
   "execution_count": null,
   "metadata": {},
   "outputs": [],
   "source": []
  }
 ],
 "metadata": {
  "anaconda-cloud": {},
  "kernelspec": {
   "display_name": "tf2",
   "language": "python",
   "name": "python3"
  },
  "language_info": {
   "codemirror_mode": {
    "name": "ipython",
    "version": 3
   },
   "file_extension": ".py",
   "mimetype": "text/x-python",
   "name": "python",
   "nbconvert_exporter": "python",
   "pygments_lexer": "ipython3",
   "version": "3.10.13"
  }
 },
 "nbformat": 4,
 "nbformat_minor": 1
}
